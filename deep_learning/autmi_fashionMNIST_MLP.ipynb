{
 "cells": [
  {
   "cell_type": "markdown",
   "metadata": {},
   "source": [
    "# FashionMNIST classification with Multilayer perceptrons\n",
    "\n",
    "https://github.com/zalandoresearch/fashion-mnist"
   ]
  },
  {
   "cell_type": "markdown",
   "metadata": {},
   "source": [
    "# Exercises\n",
    "\n",
    "1. Try changing the model and training parameters (hidden size, epoch, batch size).\n",
    "1. Add another hidden layer to the model.\n",
    "1. All input values are between 0 to 255 (RGB brightness values). Normalize them (scale them to between 0 and 1). You should see a small increase in accuracy.\n",
    "1. Try standardizing the input values (mean 0, std 1).\n",
    "1. Implement early stopping. Instead of a fix number of epochs, train until the model stops improving on the dev set. If the dev loss stop decreasing for a few epochs, training should stop.\n",
    "1. We plot one random sample and its label. Plot a random sample from each class on 10 subplots.\n",
    "1. Limit printing the loss and the accuracy to every 10th epoch instead of every epoch. \n",
    "1. ADVANCED: replace the network with a convolutional neural network. Convolutions should work on 2D images, change the preprocessing steps accordingly. You should see a big increase in accuracy."
   ]
  },
  {
   "cell_type": "code",
   "execution_count": 1,
   "metadata": {},
   "outputs": [],
   "source": [
    "import matplotlib.pyplot as plt\n",
    "import seaborn as sns\n",
    "import numpy as np\n",
    "from torchvision import datasets\n",
    "import torch\n",
    "import torch.nn as nn\n",
    "import torch.optim as optim"
   ]
  },
  {
   "cell_type": "markdown",
   "metadata": {},
   "source": [
    "# Preparing the dataset\n",
    "\n",
    "## Download and convert to float"
   ]
  },
  {
   "cell_type": "code",
   "execution_count": 2,
   "metadata": {},
   "outputs": [],
   "source": [
    "train_data = datasets.FashionMNIST('data', download=True, train=True)\n",
    "# we need FloatTensors as input\n",
    "train_X = train_data.data.float()\n",
    "train_y = train_data.targets\n",
    "test_data = datasets.FashionMNIST('data', download=True, train=False)\n",
    "test_X = test_data.data.float()\n",
    "test_y = test_data.targets"
   ]
  },
  {
   "cell_type": "markdown",
   "metadata": {},
   "source": [
    "## IMPORTANT: Inspect the dataset manually\n",
    "\n",
    "We will plot a random sample with its labels:"
   ]
  },
  {
   "cell_type": "code",
   "execution_count": 3,
   "metadata": {},
   "outputs": [
    {
     "name": "stdout",
     "output_type": "stream",
     "text": [
      "Label: Dress\n"
     ]
    },
    {
     "data": {
      "text/plain": [
       "<matplotlib.image.AxesImage at 0x7f2a984b8510>"
      ]
     },
     "execution_count": 3,
     "metadata": {},
     "output_type": "execute_result"
    },
    {
     "data": {
      "image/png": "[encoded data removed]",
      "text/plain": [
       "<Figure size 432x288 with 1 Axes>"
      ]
     },
     "metadata": {
      "needs_background": "light"
     },
     "output_type": "display_data"
    }
   ],
   "source": [
    "labels = ['T-shirt/top', 'Trouser', 'Pullover', 'Dress', 'Coat',\n",
    "'Sandal', 'Shirt', 'Sneaker', 'Bag', 'Ankle boot']\n",
    "\n",
    "idx = np.random.randint(len(train_X))\n",
    "sample_X = train_X[idx].numpy()\n",
    "sample_y = train_y[idx].numpy()\n",
    "print(\"Label: {}\".format(labels[sample_y]))\n",
    "plt.imshow(sample_X, 'gray')"
   ]
  },
  {
   "cell_type": "markdown",
   "metadata": {},
   "source": [
    "### Understanding the sizes of the data\n",
    "\n",
    "Make sure you always understand the output of tensor.size()\n",
    "\n",
    "Train size X image_x X image_y"
   ]
  },
  {
   "cell_type": "code",
   "execution_count": 4,
   "metadata": {},
   "outputs": [
    {
     "data": {
      "text/plain": [
       "torch.Size([60000, 28, 28])"
      ]
     },
     "execution_count": 4,
     "metadata": {},
     "output_type": "execute_result"
    }
   ],
   "source": [
    "train_X.size()"
   ]
  },
  {
   "cell_type": "markdown",
   "metadata": {},
   "source": [
    "### Are the classes equally distributed?"
   ]
  },
  {
   "cell_type": "code",
   "execution_count": 5,
   "metadata": {},
   "outputs": [
    {
     "data": {
      "text/plain": [
       "(array([0, 1, 2, 3, 4, 5, 6, 7, 8, 9]),\n",
       " array([6000, 6000, 6000, 6000, 6000, 6000, 6000, 6000, 6000, 6000]))"
      ]
     },
     "execution_count": 5,
     "metadata": {},
     "output_type": "execute_result"
    }
   ],
   "source": [
    "np.unique(train_y.numpy(), return_counts=True)"
   ]
  },
  {
   "cell_type": "markdown",
   "metadata": {},
   "source": [
    "## Flatten images"
   ]
  },
  {
   "cell_type": "code",
   "execution_count": 6,
   "metadata": {},
   "outputs": [
    {
     "name": "stdout",
     "output_type": "stream",
     "text": [
      "Before flattening:\n",
      "Train size: torch.Size([60000, 28, 28]) torch.Size([60000])\n",
      "Test size: torch.Size([10000, 28, 28]) torch.Size([10000])\n",
      "\n",
      "After flattening:\n",
      "Train size: torch.Size([60000, 784]) torch.Size([60000])\n",
      "Test size: torch.Size([10000, 784]) torch.Size([10000])\n"
     ]
    }
   ],
   "source": [
    "print(\"Before flattening:\")\n",
    "print(\"Train size:\", train_X.size(), train_y.size())\n",
    "print(\"Test size:\", test_X.size(), test_y.size())\n",
    "\n",
    "train_X = train_X.view(-1, 28 * 28).squeeze(1)\n",
    "test_X = test_X.view(-1, 28 * 28).squeeze(1)\n",
    "\n",
    "print(\"\\nAfter flattening:\")\n",
    "print(\"Train size:\", train_X.size(), train_y.size())\n",
    "print(\"Test size:\", test_X.size(), test_y.size())"
   ]
  },
  {
   "cell_type": "markdown",
   "metadata": {},
   "source": [
    "## Splitting the train set into train and dev set"
   ]
  },
  {
   "cell_type": "code",
   "execution_count": 7,
   "metadata": {},
   "outputs": [
    {
     "name": "stdout",
     "output_type": "stream",
     "text": [
      "The overlap between train and dev should be an empty set: set()\n",
      "\n",
      "Train size: torch.Size([50000, 784]) torch.Size([50000])\n",
      "Dev size: torch.Size([10000, 784]) torch.Size([10000])\n",
      "Test size: torch.Size([10000, 784]) torch.Size([10000])\n"
     ]
    }
   ],
   "source": [
    "all_idx = np.arange(len(train_X))\n",
    "np.random.shuffle(all_idx)\n",
    "train_idx = all_idx[:50000]\n",
    "dev_idx = all_idx[50000:]\n",
    "print(\"The overlap between train and dev should be an empty set:\", set(train_idx) & set(dev_idx))\n",
    "print(\"\")\n",
    "\n",
    "dev_X = train_X[dev_idx]\n",
    "dev_y = train_y[dev_idx]\n",
    "train_X = train_X[train_idx]\n",
    "train_y = train_y[train_idx]\n",
    "print(\"Train size:\", train_X.size(), train_y.size())\n",
    "print(\"Dev size:\", dev_X.size(), dev_y.size())\n",
    "print(\"Test size:\", test_X.size(), test_y.size())"
   ]
  },
  {
   "cell_type": "markdown",
   "metadata": {},
   "source": [
    "## Helper class that creates minibatches"
   ]
  },
  {
   "cell_type": "code",
   "execution_count": 8,
   "metadata": {},
   "outputs": [],
   "source": [
    "class BatchedIterator:\n",
    "    def __init__(self, X, y, batch_size):\n",
    "        self.X = X\n",
    "        self.y = y\n",
    "        self.batch_size = batch_size\n",
    "    \n",
    "    def iterate_once(self):\n",
    "        for start in range(0, len(self.X), self.batch_size):\n",
    "            end = start + self.batch_size\n",
    "            yield self.X[start:end], self.y[start:end]"
   ]
  },
  {
   "cell_type": "markdown",
   "metadata": {},
   "source": [
    "Testing the iterator:"
   ]
  },
  {
   "cell_type": "code",
   "execution_count": 9,
   "metadata": {},
   "outputs": [
    {
     "name": "stdout",
     "output_type": "stream",
     "text": [
      "torch.Size([33333, 784]) torch.Size([33333])\n",
      "torch.Size([16667, 784]) torch.Size([16667])\n"
     ]
    }
   ],
   "source": [
    "train_iter = BatchedIterator(train_X, train_y, 33333)\n",
    "\n",
    "for batch in train_iter.iterate_once():\n",
    "    print(batch[0].size(), batch[1].size())"
   ]
  },
  {
   "cell_type": "markdown",
   "metadata": {},
   "source": [
    "# Neural network\n",
    "\n",
    "## Definition"
   ]
  },
  {
   "cell_type": "code",
   "execution_count": 10,
   "metadata": {},
   "outputs": [],
   "source": [
    "class SimpleClassifier(nn.Module):\n",
    "    def __init__(self, input_dim, output_dim, hidden_dim):\n",
    "        super().__init__()\n",
    "        self.input_layer = nn.Linear(input_dim, hidden_dim)\n",
    "        self.relu = nn.ReLU()\n",
    "        self.output_layer = nn.Linear(hidden_dim, output_dim)\n",
    "        \n",
    "    def forward(self, X):\n",
    "        h = self.input_layer(X)\n",
    "        h = self.relu(h)\n",
    "        out = self.output_layer(h)\n",
    "        return out"
   ]
  },
  {
   "cell_type": "markdown",
   "metadata": {},
   "source": [
    "## Model instance"
   ]
  },
  {
   "cell_type": "code",
   "execution_count": 11,
   "metadata": {},
   "outputs": [
    {
     "data": {
      "text/plain": [
       "SimpleClassifier(\n",
       "  (input_layer): Linear(in_features=784, out_features=50, bias=True)\n",
       "  (relu): ReLU()\n",
       "  (output_layer): Linear(in_features=50, out_features=10, bias=True)\n",
       ")"
      ]
     },
     "execution_count": 11,
     "metadata": {},
     "output_type": "execute_result"
    }
   ],
   "source": [
    "model = SimpleClassifier(\n",
    "    input_dim=train_X.size(1),\n",
    "    output_dim=10,\n",
    "    hidden_dim=50\n",
    ")\n",
    "model"
   ]
  },
  {
   "cell_type": "code",
   "execution_count": 12,
   "metadata": {},
   "outputs": [
    {
     "name": "stdout",
     "output_type": "stream",
     "text": [
      "input_layer.weight torch.Size([50, 784])\n",
      "input_layer.bias torch.Size([50])\n",
      "output_layer.weight torch.Size([10, 50])\n",
      "output_layer.bias torch.Size([10])\n"
     ]
    }
   ],
   "source": [
    "for n, p in model.named_parameters():\n",
    "    print(n, p.size())"
   ]
  },
  {
   "cell_type": "markdown",
   "metadata": {},
   "source": [
    "## Loss function and optimizer"
   ]
  },
  {
   "cell_type": "code",
   "execution_count": 13,
   "metadata": {},
   "outputs": [],
   "source": [
    "criterion = nn.CrossEntropyLoss()\n",
    "optimizer = optim.Adam(model.parameters())"
   ]
  },
  {
   "cell_type": "markdown",
   "metadata": {},
   "source": [
    "## Sanity check\n",
    "\n",
    "The model should perform close to random at this point.\n",
    "\n",
    "**Note** we compute accuracy manually. Make sure you understand it."
   ]
  },
  {
   "cell_type": "code",
   "execution_count": 14,
   "metadata": {},
   "outputs": [
    {
     "data": {
      "text/plain": [
       "tensor(0.1394)"
      ]
     },
     "execution_count": 14,
     "metadata": {},
     "output_type": "execute_result"
    }
   ],
   "source": [
    "test_pred = model(test_X).max(axis=1)[1]\n",
    "test_acc = torch.eq(test_pred, test_y).sum().float() / len(test_X)\n",
    "test_acc"
   ]
  },
  {
   "cell_type": "markdown",
   "metadata": {},
   "source": [
    "## Training loop"
   ]
  },
  {
   "cell_type": "code",
   "execution_count": 15,
   "metadata": {},
   "outputs": [
    {
     "name": "stdout",
     "output_type": "stream",
     "text": [
      "Epoch: 0\n",
      "  train accuracy: 0.578220009803772  train loss: 1.2246407270431519\n",
      "  dev accuracy: 0.5745000243186951  dev loss: 1.2455767393112183\n",
      "Epoch: 1\n",
      "  train accuracy: 0.6832600235939026  train loss: 0.8392036557197571\n",
      "  dev accuracy: 0.677299976348877  dev loss: 0.8747658133506775\n",
      "Epoch: 2\n",
      "  train accuracy: 0.7074000239372253  train loss: 0.7486035823822021\n",
      "  dev accuracy: 0.704800009727478  dev loss: 0.7856230735778809\n",
      "Epoch: 3\n",
      "  train accuracy: 0.7379999756813049  train loss: 0.6923190355300903\n",
      "  dev accuracy: 0.7312999963760376  dev loss: 0.7377351522445679\n",
      "Epoch: 4\n",
      "  train accuracy: 0.7712000012397766  train loss: 0.6396324038505554\n",
      "  dev accuracy: 0.7634000182151794  dev loss: 0.6871625781059265\n",
      "Epoch: 5\n",
      "  train accuracy: 0.7843199968338013  train loss: 0.5973774790763855\n",
      "  dev accuracy: 0.7731000185012817  dev loss: 0.6481789350509644\n",
      "Epoch: 6\n",
      "  train accuracy: 0.7934200167655945  train loss: 0.568629264831543\n",
      "  dev accuracy: 0.7820000052452087  dev loss: 0.6232579350471497\n",
      "Epoch: 7\n",
      "  train accuracy: 0.8008000254631042  train loss: 0.5459314584732056\n",
      "  dev accuracy: 0.7874000072479248  dev loss: 0.6043643951416016\n",
      "Epoch: 8\n",
      "  train accuracy: 0.809719979763031  train loss: 0.5248658657073975\n",
      "  dev accuracy: 0.7958999872207642  dev loss: 0.5880126953125\n",
      "Epoch: 9\n",
      "  train accuracy: 0.8162400126457214  train loss: 0.506748616695404\n",
      "  dev accuracy: 0.8033999800682068  dev loss: 0.5722618699073792\n"
     ]
    }
   ],
   "source": [
    "batch_size = 1000\n",
    "train_iter = BatchedIterator(train_X, train_y, batch_size)\n",
    "dev_iter = BatchedIterator(dev_X, dev_y, batch_size)\n",
    "test_iter = BatchedIterator(test_X, test_y, batch_size)\n",
    "\n",
    "all_train_loss = []\n",
    "all_dev_loss = []\n",
    "all_train_acc = []\n",
    "all_dev_acc = []\n",
    "\n",
    "n_epochs = 10\n",
    "for epoch in range(n_epochs):\n",
    "    # training loop\n",
    "    for bi, (batch_x, batch_y) in enumerate(train_iter.iterate_once()):\n",
    "        \n",
    "        y_out = model(batch_x)\n",
    "        loss = criterion(y_out, batch_y)\n",
    "        optimizer.zero_grad()\n",
    "        loss.backward()\n",
    "        optimizer.step()\n",
    "        \n",
    "    # one train epoch finished, evaluate on the train and the dev set (NOT the test)\n",
    "    train_out = model(train_X)\n",
    "    train_loss = criterion(train_out, train_y)\n",
    "    all_train_loss.append(train_loss.item())\n",
    "    train_pred = train_out.max(axis=1)[1]\n",
    "    train_acc = torch.eq(train_pred, train_y).sum().float() / len(train_X)\n",
    "    all_train_acc.append(train_acc)\n",
    "    \n",
    "    dev_out = model(dev_X)\n",
    "    dev_loss = criterion(dev_out, dev_y)\n",
    "    all_dev_loss.append(dev_loss.item())\n",
    "    dev_pred = dev_out.max(axis=1)[1]\n",
    "    dev_acc = torch.eq(dev_pred, dev_y).sum().float() / len(dev_X)\n",
    "    all_dev_acc.append(dev_acc)\n",
    "    \n",
    "    print(f\"Epoch: {epoch}\\n  train accuracy: {train_acc}  train loss: {train_loss}\")\n",
    "    print(f\"  dev accuracy: {dev_acc}  dev loss: {dev_loss}\")"
   ]
  },
  {
   "cell_type": "markdown",
   "metadata": {},
   "source": [
    "## Test accuarcy"
   ]
  },
  {
   "cell_type": "code",
   "execution_count": 16,
   "metadata": {},
   "outputs": [
    {
     "data": {
      "text/plain": [
       "tensor(0.8001)"
      ]
     },
     "execution_count": 16,
     "metadata": {},
     "output_type": "execute_result"
    }
   ],
   "source": [
    "test_pred = model(test_X).max(axis=1)[1]\n",
    "test_acc = torch.eq(test_pred, test_y).sum().float() / len(test_X)\n",
    "test_acc"
   ]
  },
  {
   "cell_type": "markdown",
   "metadata": {},
   "source": [
    "## Plot loss functions, accuracies"
   ]
  },
  {
   "cell_type": "code",
   "execution_count": 17,
   "metadata": {},
   "outputs": [
    {
     "data": {
      "text/plain": [
       "<matplotlib.legend.Legend at 0x7f2a9840f050>"
      ]
     },
     "execution_count": 17,
     "metadata": {},
     "output_type": "execute_result"
    },
    {
     "data": {
      "image/png": "[encoded data removed]",
      "text/plain": [
       "<Figure size 432x288 with 1 Axes>"
      ]
     },
     "metadata": {
      "needs_background": "light"
     },
     "output_type": "display_data"
    }
   ],
   "source": [
    "plt.plot(all_train_loss, label='train')\n",
    "plt.plot(all_dev_loss, label='dev')\n",
    "plt.legend()"
   ]
  },
  {
   "cell_type": "code",
   "execution_count": 18,
   "metadata": {},
   "outputs": [
    {
     "data": {
      "text/plain": [
       "<matplotlib.legend.Legend at 0x7f2a9838c810>"
      ]
     },
     "execution_count": 18,
     "metadata": {},
     "output_type": "execute_result"
    },
    {
     "data": {
      "image/png": "[encoded data removed]",
      "text/plain": [
       "<Figure size 432x288 with 1 Axes>"
      ]
     },
     "metadata": {
      "needs_background": "light"
     },
     "output_type": "display_data"
    }
   ],
   "source": [
    "plt.plot(all_train_acc, label='train')\n",
    "plt.plot(all_dev_acc, label='dev')\n",
    "plt.legend()"
   ]
  },
  {
   "cell_type": "markdown",
   "metadata": {},
   "source": [
    "## Overfitting\n",
    "\n",
    "We'll train a larger network on a much smaller set:"
   ]
  },
  {
   "cell_type": "code",
   "execution_count": 19,
   "metadata": {},
   "outputs": [],
   "source": [
    "toy_X = train_X[:5]\n",
    "toy_y = train_y[:5]\n",
    "\n",
    "model = SimpleClassifier(\n",
    "    input_dim=train_X.size(1),\n",
    "    output_dim=10,\n",
    "    hidden_dim=500\n",
    ")\n",
    "optimizer = optim.Adam(model.parameters())"
   ]
  },
  {
   "cell_type": "code",
   "execution_count": 20,
   "metadata": {},
   "outputs": [],
   "source": [
    "batch_size = 20\n",
    "toy_train_iter = BatchedIterator(toy_X, toy_y, batch_size)\n",
    "\n",
    "all_train_loss = []\n",
    "all_dev_loss = []\n",
    "all_train_acc = []\n",
    "all_dev_acc = []\n",
    "\n",
    "n_epochs = 20\n",
    "for epoch in range(n_epochs):\n",
    "    # training loop\n",
    "    for bi, (batch_x, batch_y) in enumerate(toy_train_iter.iterate_once()):\n",
    "        \n",
    "        y_out = model(batch_x)\n",
    "        loss = criterion(y_out, batch_y)\n",
    "        optimizer.zero_grad()\n",
    "        loss.backward()\n",
    "        optimizer.step()\n",
    "        \n",
    "    # one train epoch finished, evaluate on the train and the dev set (NOT the test)\n",
    "    train_out = model(toy_X)\n",
    "    train_loss = criterion(train_out, toy_y)\n",
    "    all_train_loss.append(train_loss.item())\n",
    "    train_pred = train_out.max(axis=1)[1]\n",
    "    train_acc = torch.eq(train_pred, toy_y).sum().float() / len(toy_X)\n",
    "    all_train_acc.append(train_acc)\n",
    "    \n",
    "    dev_out = model(dev_X)\n",
    "    dev_loss = criterion(dev_out, dev_y)\n",
    "    all_dev_loss.append(dev_loss.item())\n",
    "    dev_pred = dev_out.max(axis=1)[1]\n",
    "    dev_acc = torch.eq(dev_pred, dev_y).sum().float() / len(dev_X)\n",
    "    all_dev_acc.append(dev_acc)"
   ]
  },
  {
   "cell_type": "code",
   "execution_count": 21,
   "metadata": {},
   "outputs": [
    {
     "data": {
      "text/plain": [
       "<matplotlib.legend.Legend at 0x7f2a982b5590>"
      ]
     },
     "execution_count": 21,
     "metadata": {},
     "output_type": "execute_result"
    },
    {
     "data": {
      "image/png": "[encoded data removed]",
      "text/plain": [
       "<Figure size 864x360 with 2 Axes>"
      ]
     },
     "metadata": {
      "needs_background": "light"
     },
     "output_type": "display_data"
    }
   ],
   "source": [
    "fig, ax = plt.subplots(1, 2, figsize=(12, 5))\n",
    "ax[0].set_title(\"Loss\")\n",
    "ax[1].set_title(\"Accuracy\")\n",
    "ax[0].set_xlabel(\"epoch\")\n",
    "ax[1].set_xlabel(\"epoch\")\n",
    "ax[0].plot(all_train_loss, label='train')\n",
    "ax[0].plot(all_dev_loss, label='dev')\n",
    "ax[1].plot(all_train_acc, label='train')\n",
    "ax[1].plot(all_dev_acc, label='dev')\n",
    "plt.legend()"
   ]
  },
  {
   "cell_type": "markdown",
   "metadata": {},
   "source": [
    "# Gotchas\n",
    "\n",
    "## List elements are not trained\n",
    "\n",
    "Modules such as `nn.Linear` are not registered as parameters if they're not direct attributes of a module.\n",
    "\n",
    "In this example we add two extra layers as a list to the module:"
   ]
  },
  {
   "cell_type": "code",
   "execution_count": 22,
   "metadata": {},
   "outputs": [],
   "source": [
    "class SimpleClassifier(nn.Module):\n",
    "    def __init__(self, input_dim, output_dim,\n",
    "                 hidden_dim):\n",
    "        super().__init__()\n",
    "        self.input_layer = nn.Linear(\n",
    "            input_dim, hidden_dim)\n",
    "        \n",
    "        # let's add some extra layers in a list\n",
    "        self.extra_layers = [\n",
    "            nn.Linear(hidden_dim, 100),\n",
    "            nn.ReLU(),\n",
    "            nn.Linear(100, hidden_dim),\n",
    "            nn.ReLU(),\n",
    "        ]\n",
    "        \n",
    "        self.relu = nn.ReLU()\n",
    "        self.output_layer = nn.Linear(\n",
    "            hidden_dim, output_dim)\n",
    "        \n",
    "    def forward(self, X):\n",
    "        h = self.input_layer(X)\n",
    "        h = self.relu(h)\n",
    "        # passing through extra layers\n",
    "        for layer in self.extra_layers:\n",
    "            h = layer(h)\n",
    "        out = self.output_layer(h)\n",
    "        return out"
   ]
  },
  {
   "cell_type": "markdown",
   "metadata": {},
   "source": [
    "they are not part of the model"
   ]
  },
  {
   "cell_type": "code",
   "execution_count": 23,
   "metadata": {},
   "outputs": [
    {
     "name": "stdout",
     "output_type": "stream",
     "text": [
      "SimpleClassifier(\n",
      "  (input_layer): Linear(in_features=4, out_features=6, bias=True)\n",
      "  (relu): ReLU()\n",
      "  (output_layer): Linear(in_features=6, out_features=5, bias=True)\n",
      ")\n",
      "Parameters:\n",
      "Name: input_layer.weight, size: torch.Size([6, 4])\n",
      "Name: input_layer.bias, size: torch.Size([6])\n",
      "Name: output_layer.weight, size: torch.Size([5, 6])\n",
      "Name: output_layer.bias, size: torch.Size([5])\n"
     ]
    }
   ],
   "source": [
    "m = SimpleClassifier(4, 5, 6)\n",
    "print(m)\n",
    "\n",
    "print(\"Parameters:\")\n",
    "for name, param in m.named_parameters():\n",
    "    print(\"Name: {}, size: {}\".format(name, param.size()))"
   ]
  },
  {
   "cell_type": "markdown",
   "metadata": {},
   "source": [
    "## One solution is `nn.ModuleList`"
   ]
  },
  {
   "cell_type": "code",
   "execution_count": 24,
   "metadata": {},
   "outputs": [],
   "source": [
    "class SimpleClassifier(nn.Module):\n",
    "    def __init__(self, input_dim, output_dim,\n",
    "                 hidden_dim):\n",
    "        super().__init__()\n",
    "        self.input_layer = nn.Linear(\n",
    "            input_dim, hidden_dim)\n",
    "        \n",
    "        # use ModuleList\n",
    "        self.extra_layers = nn.ModuleList([\n",
    "            nn.Linear(hidden_dim, 100),\n",
    "            nn.ReLU(),\n",
    "            nn.Linear(100, hidden_dim),\n",
    "            nn.ReLU(),\n",
    "        ])\n",
    "        \n",
    "        self.relu = nn.ReLU()\n",
    "        self.output_layer = nn.Linear(\n",
    "            hidden_dim, output_dim)\n",
    "        \n",
    "    def forward(self, X):\n",
    "        h = self.input_layer(X)\n",
    "        h = self.relu(h)\n",
    "        # passing through extra layers\n",
    "        for layer in self.extra_layers:\n",
    "            h = layer(h)\n",
    "        out = self.output_layer(h)\n",
    "        return out"
   ]
  },
  {
   "cell_type": "code",
   "execution_count": 25,
   "metadata": {},
   "outputs": [
    {
     "name": "stdout",
     "output_type": "stream",
     "text": [
      "SimpleClassifier(\n",
      "  (input_layer): Linear(in_features=4, out_features=6, bias=True)\n",
      "  (extra_layers): ModuleList(\n",
      "    (0): Linear(in_features=6, out_features=100, bias=True)\n",
      "    (1): ReLU()\n",
      "    (2): Linear(in_features=100, out_features=6, bias=True)\n",
      "    (3): ReLU()\n",
      "  )\n",
      "  (relu): ReLU()\n",
      "  (output_layer): Linear(in_features=6, out_features=5, bias=True)\n",
      ")\n",
      "Parameters:\n",
      "Name: input_layer.weight, size: torch.Size([6, 4])\n",
      "Name: input_layer.bias, size: torch.Size([6])\n",
      "Name: extra_layers.0.weight, size: torch.Size([100, 6])\n",
      "Name: extra_layers.0.bias, size: torch.Size([100])\n",
      "Name: extra_layers.2.weight, size: torch.Size([6, 100])\n",
      "Name: extra_layers.2.bias, size: torch.Size([6])\n",
      "Name: output_layer.weight, size: torch.Size([5, 6])\n",
      "Name: output_layer.bias, size: torch.Size([5])\n"
     ]
    }
   ],
   "source": [
    "m = SimpleClassifier(4, 5, 6)\n",
    "print(m)\n",
    "\n",
    "print(\"Parameters:\")\n",
    "for name, param in m.named_parameters():\n",
    "    print(\"Name: {}, size: {}\".format(name, param.size()))"
   ]
  },
  {
   "cell_type": "code",
   "execution_count": null,
   "metadata": {},
   "outputs": [],
   "source": []
  },
  {
   "cell_type": "markdown",
   "metadata": {},
   "source": [
    "# Using the GPU"
   ]
  },
  {
   "cell_type": "code",
   "execution_count": 26,
   "metadata": {},
   "outputs": [
    {
     "name": "stdout",
     "output_type": "stream",
     "text": [
      "False\n"
     ]
    }
   ],
   "source": [
    "use_cuda = torch.cuda.is_available()\n",
    "print(use_cuda)"
   ]
  },
  {
   "cell_type": "markdown",
   "metadata": {},
   "source": [
    "Moving things manually to the GPU:\n",
    "\n",
    "1. model: move once\n",
    "1. criterion: move once\n",
    "1. data: move one batch at a time\n",
    "\n",
    "This should be automatically handled by your code the following way:"
   ]
  },
  {
   "cell_type": "code",
   "execution_count": 27,
   "metadata": {},
   "outputs": [],
   "source": [
    "if use_cuda:\n",
    "    model = model.cuda()\n",
    "    criterion = criterion.cuda()"
   ]
  }
 ],
 "metadata": {
  "kernelspec": {
   "display_name": "Python 3",
   "language": "python",
   "name": "python3"
  },
  "language_info": {
   "codemirror_mode": {
    "name": "ipython",
    "version": 3
   },
   "file_extension": ".py",
   "mimetype": "text/x-python",
   "name": "python",
   "nbconvert_exporter": "python",
   "pygments_lexer": "ipython3",
   "version": "3.7.6"
  },
  "toc": {
   "colors": {
    "hover_highlight": "#DAA520",
    "navigate_num": "#000000",
    "navigate_text": "#333333",
    "running_highlight": "#FF0000",
    "selected_highlight": "#FFD700",
    "sidebar_border": "#EEEEEE",
    "wrapper_background": "#FFFFFF"
   },
   "moveMenuLeft": true,
   "nav_menu": {
    "height": "452.617px",
    "width": "252px"
   },
   "navigate_menu": true,
   "number_sections": true,
   "sideBar": true,
   "threshold": 4,
   "toc_cell": false,
   "toc_section_display": "block",
   "toc_window_display": false,
   "widenNotebook": false
  }
 },
 "nbformat": 4,
 "nbformat_minor": 4
}
