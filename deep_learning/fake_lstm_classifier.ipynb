{
 "cells": [
  {
   "cell_type": "code",
   "execution_count": 193,
   "metadata": {},
   "outputs": [],
   "source": [
    "import matplotlib.pyplot as plt\n",
    "import seaborn as sns\n",
    "import numpy as np\n",
    "import torch\n",
    "import torch.nn as nn\n",
    "import torch.optim as optim"
   ]
  },
  {
   "cell_type": "markdown",
   "metadata": {},
   "source": [
    "# Preparing the dataset\n"
   ]
  },
  {
   "cell_type": "code",
   "execution_count": 194,
   "metadata": {},
   "outputs": [
    {
     "name": "stdout",
     "output_type": "stream",
     "text": [
      "FaceEmbeddingsDataset.p  Labels.p\r\n"
     ]
    }
   ],
   "source": [
    "! ls ../dat"
   ]
  },
  {
   "cell_type": "code",
   "execution_count": 195,
   "metadata": {},
   "outputs": [],
   "source": [
    "import pickle"
   ]
  },
  {
   "cell_type": "code",
   "execution_count": 196,
   "metadata": {},
   "outputs": [],
   "source": [
    "with open(\"../dat/FaceEmbeddingsDataset.p\", \"rb\") as f:\n",
    "    d = pickle.load(f)"
   ]
  },
  {
   "cell_type": "code",
   "execution_count": 197,
   "metadata": {},
   "outputs": [
    {
     "data": {
      "text/plain": [
       "(400, list, 30)"
      ]
     },
     "execution_count": 197,
     "metadata": {},
     "output_type": "execute_result"
    }
   ],
   "source": [
    "len(d), type(d[0]), len(d[0])"
   ]
  },
  {
   "cell_type": "code",
   "execution_count": 198,
   "metadata": {},
   "outputs": [],
   "source": [
    "videos = []\n",
    "has_any = []\n",
    "\n",
    "for si, sample in enumerate(d):\n",
    "    mtx = [r[0] for r in sample if r]\n",
    "    if mtx:\n",
    "        videos.append(np.stack(mtx))\n",
    "        has_any.append(si)"
   ]
  },
  {
   "cell_type": "code",
   "execution_count": 199,
   "metadata": {},
   "outputs": [
    {
     "data": {
      "text/plain": [
       "381"
      ]
     },
     "execution_count": 199,
     "metadata": {},
     "output_type": "execute_result"
    }
   ],
   "source": [
    "len(has_any)"
   ]
  },
  {
   "cell_type": "code",
   "execution_count": 200,
   "metadata": {},
   "outputs": [],
   "source": [
    "with open(\"../dat/Labels.p\", \"rb\") as f:\n",
    "    labels = pickle.load(f)"
   ]
  },
  {
   "cell_type": "code",
   "execution_count": 201,
   "metadata": {},
   "outputs": [],
   "source": [
    "labels = (np.array(labels) == 'FAKE').astype(int)"
   ]
  },
  {
   "cell_type": "code",
   "execution_count": 202,
   "metadata": {},
   "outputs": [],
   "source": [
    "labels = labels[has_any]"
   ]
  },
  {
   "cell_type": "code",
   "execution_count": null,
   "metadata": {},
   "outputs": [],
   "source": []
  },
  {
   "cell_type": "code",
   "execution_count": 203,
   "metadata": {},
   "outputs": [
    {
     "data": {
      "text/plain": [
       "(381, 381)"
      ]
     },
     "execution_count": 203,
     "metadata": {},
     "output_type": "execute_result"
    }
   ],
   "source": [
    "len(videos), len(labels)"
   ]
  },
  {
   "cell_type": "code",
   "execution_count": 204,
   "metadata": {},
   "outputs": [],
   "source": [
    "for vi in range(len(videos)):\n",
    "    missing = (30 - len(videos[vi]))\n",
    "    if missing > 0:\n",
    "        extra = np.zeros((missing, 128))\n",
    "        row = np.concatenate((videos[vi], extra))\n",
    "        videos[vi] = row"
   ]
  },
  {
   "cell_type": "code",
   "execution_count": 205,
   "metadata": {},
   "outputs": [
    {
     "data": {
      "text/plain": [
       "tensor(nan)"
      ]
     },
     "execution_count": 205,
     "metadata": {},
     "output_type": "execute_result"
    }
   ],
   "source": [
    "y[200:].float().mean()"
   ]
  },
  {
   "cell_type": "code",
   "execution_count": 206,
   "metadata": {},
   "outputs": [],
   "source": [
    "X = torch.from_numpy(np.stack(videos)).float()[200:]\n",
    "y = torch.from_numpy(labels).long()[200:]"
   ]
  },
  {
   "cell_type": "code",
   "execution_count": 207,
   "metadata": {},
   "outputs": [],
   "source": [
    "all_idx = np.arange(len(X))\n",
    "np.random.shuffle(all_idx)\n",
    "dev_idx = all_idx[:70]\n",
    "train_idx = all_idx[70:]\n",
    "train_X = X[train_idx]\n",
    "train_y = y[train_idx]\n",
    "dev_X = X[dev_idx]\n",
    "dev_y = y[dev_idx]"
   ]
  },
  {
   "cell_type": "code",
   "execution_count": 208,
   "metadata": {},
   "outputs": [
    {
     "data": {
      "text/plain": [
       "tensor([1, 0, 1, 1, 1, 0, 0, 1, 1, 1, 1, 0, 1, 1, 1, 0, 0, 0, 0, 1, 1, 0, 0, 1,\n",
       "        0, 1, 1, 0, 0, 0, 1, 0, 1, 1, 0, 0, 1, 1, 0, 1, 0, 1, 1, 0, 0, 1, 1, 0,\n",
       "        0, 0, 1, 0, 1, 1, 1, 0, 1, 1, 1, 1, 0, 1, 1, 1, 1, 1, 0, 1, 1, 1])"
      ]
     },
     "execution_count": 208,
     "metadata": {},
     "output_type": "execute_result"
    }
   ],
   "source": [
    "dev_y"
   ]
  },
  {
   "cell_type": "code",
   "execution_count": null,
   "metadata": {},
   "outputs": [],
   "source": []
  },
  {
   "cell_type": "markdown",
   "metadata": {},
   "source": []
  },
  {
   "cell_type": "code",
   "execution_count": 209,
   "metadata": {},
   "outputs": [],
   "source": [
    "class BatchedIterator:\n",
    "    def __init__(self, X, y, batch_size):\n",
    "        self.X = X\n",
    "        self.y = y\n",
    "        self.batch_size = batch_size\n",
    "    \n",
    "    def iterate_once(self):\n",
    "        for start in range(0, len(self.X), self.batch_size):\n",
    "            end = start + self.batch_size\n",
    "            yield self.X[start:end], self.y[start:end]"
   ]
  },
  {
   "cell_type": "markdown",
   "metadata": {},
   "source": [
    "Testing the iterator:"
   ]
  },
  {
   "cell_type": "code",
   "execution_count": 210,
   "metadata": {},
   "outputs": [
    {
     "name": "stdout",
     "output_type": "stream",
     "text": [
      "torch.Size([111, 30, 128]) torch.Size([111])\n"
     ]
    }
   ],
   "source": [
    "train_iter = BatchedIterator(train_X, train_y, 303)\n",
    "\n",
    "for batch in train_iter.iterate_once():\n",
    "    print(batch[0].size(), batch[1].size())"
   ]
  },
  {
   "cell_type": "markdown",
   "metadata": {},
   "source": [
    "# Neural network\n",
    "\n",
    "## Definition"
   ]
  },
  {
   "cell_type": "code",
   "execution_count": 212,
   "metadata": {},
   "outputs": [],
   "source": [
    "class SimpleFakeClassifier(nn.Module):\n",
    "    def __init__(self, n_layer, hidden_dim):\n",
    "        super().__init__()\n",
    "        self.lstm = nn.LSTM(128, hidden_dim, num_layers=n_layer, bidirectional=True, batch_first=True, dropout=0.2)\n",
    "        self.output_layer = nn.Linear(2*hidden_dim, 2)\n",
    "        \n",
    "    def forward(self, X):\n",
    "        _, (h, c) = self.lstm(X)\n",
    "        h = torch.cat((h[-1], h[-2]), -1)\n",
    "        return self.output_layer(h)\n",
    "    \n",
    "class SimpleFakeCNNClassifier(nn.Module):\n",
    "    def __init__(self, filt1, filt2):\n",
    "        super().__init__()\n",
    "        #TODO\n",
    "        self.conv1 = nn.Conv2d(128, filt1)\n",
    "        self.maxpool = nn.MaxPool2d(2)\n",
    "        self.conv2 = nn.Conv2d()\n",
    "        #self.output_layer = nn.Linear(, 2)\n",
    "        \n",
    "    def forward(self, X):\n",
    "        # todo\n",
    "        pass"
   ]
  },
  {
   "cell_type": "markdown",
   "metadata": {},
   "source": [
    "## Model instance"
   ]
  },
  {
   "cell_type": "code",
   "execution_count": 213,
   "metadata": {},
   "outputs": [
    {
     "name": "stderr",
     "output_type": "stream",
     "text": [
      "/homes/gws/jacs/miniconda3/lib/python3.6/site-packages/torch/nn/modules/rnn.py:51: UserWarning: dropout option adds dropout after all but last recurrent layer, so non-zero dropout expects num_layers greater than 1, but got dropout=0.2 and num_layers=1\n",
      "  \"num_layers={}\".format(dropout, num_layers))\n"
     ]
    },
    {
     "data": {
      "text/plain": [
       "SimpleFakeClassifier(\n",
       "  (lstm): LSTM(128, 500, batch_first=True, dropout=0.2, bidirectional=True)\n",
       "  (output_layer): Linear(in_features=1000, out_features=2, bias=True)\n",
       ")"
      ]
     },
     "execution_count": 213,
     "metadata": {},
     "output_type": "execute_result"
    }
   ],
   "source": [
    "model = SimpleFakeClassifier(\n",
    "    hidden_dim=500,\n",
    "    n_layer=1\n",
    ")\n",
    "model"
   ]
  },
  {
   "cell_type": "code",
   "execution_count": 214,
   "metadata": {},
   "outputs": [
    {
     "name": "stdout",
     "output_type": "stream",
     "text": [
      "lstm.weight_ih_l0 torch.Size([2000, 128])\n",
      "lstm.weight_hh_l0 torch.Size([2000, 500])\n",
      "lstm.bias_ih_l0 torch.Size([2000])\n",
      "lstm.bias_hh_l0 torch.Size([2000])\n",
      "lstm.weight_ih_l0_reverse torch.Size([2000, 128])\n",
      "lstm.weight_hh_l0_reverse torch.Size([2000, 500])\n",
      "lstm.bias_ih_l0_reverse torch.Size([2000])\n",
      "lstm.bias_hh_l0_reverse torch.Size([2000])\n",
      "output_layer.weight torch.Size([2, 1000])\n",
      "output_layer.bias torch.Size([2])\n"
     ]
    }
   ],
   "source": [
    "for n, p in model.named_parameters():\n",
    "    print(n, p.size())"
   ]
  },
  {
   "cell_type": "markdown",
   "metadata": {},
   "source": [
    "## Loss function and optimizer"
   ]
  },
  {
   "cell_type": "code",
   "execution_count": 215,
   "metadata": {},
   "outputs": [],
   "source": [
    "criterion = nn.CrossEntropyLoss()\n",
    "optimizer = optim.Adam(model.parameters())"
   ]
  },
  {
   "cell_type": "markdown",
   "metadata": {},
   "source": [
    "## Sanity check\n",
    "\n",
    "The model should perform close to random at this point.\n",
    "\n",
    "**Note** we compute accuracy manually. Make sure you understand it."
   ]
  },
  {
   "cell_type": "code",
   "execution_count": 216,
   "metadata": {},
   "outputs": [
    {
     "data": {
      "text/plain": [
       "torch.float32"
      ]
     },
     "execution_count": 216,
     "metadata": {},
     "output_type": "execute_result"
    }
   ],
   "source": [
    "dev_X.dtype"
   ]
  },
  {
   "cell_type": "code",
   "execution_count": 217,
   "metadata": {},
   "outputs": [
    {
     "data": {
      "text/plain": [
       "tensor(0.4000)"
      ]
     },
     "execution_count": 217,
     "metadata": {},
     "output_type": "execute_result"
    }
   ],
   "source": [
    "dev_pred = model(dev_X).max(axis=1)[1]\n",
    "dev_acc = torch.eq(dev_pred, dev_y).sum().float() / len(dev_X)\n",
    "dev_acc"
   ]
  },
  {
   "cell_type": "markdown",
   "metadata": {},
   "source": [
    "## Training loop"
   ]
  },
  {
   "cell_type": "code",
   "execution_count": 218,
   "metadata": {},
   "outputs": [],
   "source": [
    "batch_size = 50\n",
    "train_iter = BatchedIterator(train_X, train_y, batch_size)\n",
    "dev_iter = BatchedIterator(dev_X, dev_y, batch_size)\n",
    "\n",
    "all_train_loss = []\n",
    "all_dev_loss = []\n",
    "all_train_acc = []\n",
    "all_dev_acc = []\n",
    "\n",
    "n_epochs = 100\n",
    "for epoch in range(n_epochs):\n",
    "    # training loop\n",
    "    for bi, (batch_x, batch_y) in enumerate(train_iter.iterate_once()):\n",
    "        \n",
    "        y_out = model(batch_x)\n",
    "        loss = criterion(y_out, batch_y)\n",
    "        optimizer.zero_grad()\n",
    "        loss.backward()\n",
    "        optimizer.step()\n",
    "        \n",
    "    # one train epoch finished, evaluate on the train and the dev set (NOT the test)\n",
    "    train_out = model(train_X)\n",
    "    train_loss = criterion(train_out, train_y)\n",
    "    all_train_loss.append(train_loss.item())\n",
    "    train_pred = train_out.max(axis=1)[1]\n",
    "    train_acc = torch.eq(train_pred, train_y).sum().float() / len(train_X)\n",
    "    all_train_acc.append(train_acc)\n",
    "    \n",
    "    dev_out = model(dev_X)\n",
    "    dev_loss = criterion(dev_out, dev_y)\n",
    "    all_dev_loss.append(dev_loss.item())\n",
    "    dev_pred = dev_out.max(axis=1)[1]\n",
    "    dev_acc = torch.eq(dev_pred, dev_y).sum().float() / len(dev_X)\n",
    "    all_dev_acc.append(dev_acc)\n",
    "    \n",
    "    #print(f\"Epoch: {epoch}\\n  train accuracy: {train_acc}  train loss: {train_loss}\")\n",
    "    #print(f\"  dev accuracy: {dev_acc}  dev loss: {dev_loss}\")"
   ]
  },
  {
   "cell_type": "markdown",
   "metadata": {},
   "source": [
    "## Dev accuarcy"
   ]
  },
  {
   "cell_type": "code",
   "execution_count": 219,
   "metadata": {},
   "outputs": [
    {
     "name": "stdout",
     "output_type": "stream",
     "text": [
      "tensor(0.8571)\n"
     ]
    },
    {
     "data": {
      "text/html": [
       "<div>\n",
       "<style scoped>\n",
       "    .dataframe tbody tr th:only-of-type {\n",
       "        vertical-align: middle;\n",
       "    }\n",
       "\n",
       "    .dataframe tbody tr th {\n",
       "        vertical-align: top;\n",
       "    }\n",
       "\n",
       "    .dataframe thead th {\n",
       "        text-align: right;\n",
       "    }\n",
       "</style>\n",
       "<table border=\"1\" class=\"dataframe\">\n",
       "  <thead>\n",
       "    <tr style=\"text-align: right;\">\n",
       "      <th>prediction</th>\n",
       "      <th>0</th>\n",
       "      <th>1</th>\n",
       "    </tr>\n",
       "    <tr>\n",
       "      <th>reference</th>\n",
       "      <th></th>\n",
       "      <th></th>\n",
       "    </tr>\n",
       "  </thead>\n",
       "  <tbody>\n",
       "    <tr>\n",
       "      <th>0</th>\n",
       "      <td>26</td>\n",
       "      <td>2</td>\n",
       "    </tr>\n",
       "    <tr>\n",
       "      <th>1</th>\n",
       "      <td>8</td>\n",
       "      <td>34</td>\n",
       "    </tr>\n",
       "  </tbody>\n",
       "</table>\n",
       "</div>"
      ],
      "text/plain": [
       "prediction   0   1\n",
       "reference         \n",
       "0           26   2\n",
       "1            8  34"
      ]
     },
     "execution_count": 219,
     "metadata": {},
     "output_type": "execute_result"
    }
   ],
   "source": [
    "dev_pred = model(dev_X).max(axis=1)[1]\n",
    "dev_acc = torch.eq(dev_pred, dev_y).sum().float() / len(dev_X)\n",
    "print(dev_acc)\n",
    "\n",
    "import pandas as pd\n",
    "s = pd.DataFrame(zip(list(dev_y.data.numpy()), list(dev_pred.data.numpy())), columns=['reference', 'prediction'])\n",
    "s.groupby(['reference', 'prediction']).size().unstack()"
   ]
  },
  {
   "cell_type": "markdown",
   "metadata": {},
   "source": [
    "# Train accuracy"
   ]
  },
  {
   "cell_type": "code",
   "execution_count": 220,
   "metadata": {},
   "outputs": [
    {
     "name": "stdout",
     "output_type": "stream",
     "text": [
      "tensor(0.9459)\n"
     ]
    },
    {
     "data": {
      "text/html": [
       "<div>\n",
       "<style scoped>\n",
       "    .dataframe tbody tr th:only-of-type {\n",
       "        vertical-align: middle;\n",
       "    }\n",
       "\n",
       "    .dataframe tbody tr th {\n",
       "        vertical-align: top;\n",
       "    }\n",
       "\n",
       "    .dataframe thead th {\n",
       "        text-align: right;\n",
       "    }\n",
       "</style>\n",
       "<table border=\"1\" class=\"dataframe\">\n",
       "  <thead>\n",
       "    <tr style=\"text-align: right;\">\n",
       "      <th>prediction</th>\n",
       "      <th>0</th>\n",
       "      <th>1</th>\n",
       "    </tr>\n",
       "    <tr>\n",
       "      <th>reference</th>\n",
       "      <th></th>\n",
       "      <th></th>\n",
       "    </tr>\n",
       "  </thead>\n",
       "  <tbody>\n",
       "    <tr>\n",
       "      <th>0</th>\n",
       "      <td>46</td>\n",
       "      <td>2</td>\n",
       "    </tr>\n",
       "    <tr>\n",
       "      <th>1</th>\n",
       "      <td>4</td>\n",
       "      <td>59</td>\n",
       "    </tr>\n",
       "  </tbody>\n",
       "</table>\n",
       "</div>"
      ],
      "text/plain": [
       "prediction   0   1\n",
       "reference         \n",
       "0           46   2\n",
       "1            4  59"
      ]
     },
     "execution_count": 220,
     "metadata": {},
     "output_type": "execute_result"
    }
   ],
   "source": [
    "train_pred = model(train_X).max(axis=1)[1]\n",
    "train_acc = torch.eq(train_pred, train_y).sum().float() / len(train_X)\n",
    "print(train_acc)\n",
    "\n",
    "import pandas as pd\n",
    "s = pd.DataFrame(zip(list(train_y.data.numpy()), list(train_pred.data.numpy())), columns=['reference', 'prediction'])\n",
    "s.groupby(['reference', 'prediction']).size().unstack()"
   ]
  },
  {
   "cell_type": "code",
   "execution_count": null,
   "metadata": {},
   "outputs": [],
   "source": []
  },
  {
   "cell_type": "markdown",
   "metadata": {},
   "source": [
    "## Plot loss functions, accuracies"
   ]
  },
  {
   "cell_type": "code",
   "execution_count": 221,
   "metadata": {},
   "outputs": [
    {
     "data": {
      "text/plain": [
       "<matplotlib.legend.Legend at 0x7fbf9c472320>"
      ]
     },
     "execution_count": 221,
     "metadata": {},
     "output_type": "execute_result"
    },
    {
     "data": {
      "image/png": "[encoded data removed]",
      "text/plain": [
       "<Figure size 432x288 with 1 Axes>"
      ]
     },
     "metadata": {
      "needs_background": "light"
     },
     "output_type": "display_data"
    }
   ],
   "source": [
    "plt.plot(all_train_loss, label='train')\n",
    "plt.plot(all_dev_loss, label='dev')\n",
    "plt.legend()"
   ]
  },
  {
   "cell_type": "code",
   "execution_count": 222,
   "metadata": {},
   "outputs": [
    {
     "data": {
      "text/plain": [
       "<matplotlib.legend.Legend at 0x7fbf9c4abac8>"
      ]
     },
     "execution_count": 222,
     "metadata": {},
     "output_type": "execute_result"
    },
    {
     "data": {
      "image/png": "[encoded data removed]",
      "text/plain": [
       "<Figure size 432x288 with 1 Axes>"
      ]
     },
     "metadata": {
      "needs_background": "light"
     },
     "output_type": "display_data"
    }
   ],
   "source": [
    "plt.plot(all_train_acc, label='train')\n",
    "plt.plot(all_dev_acc, label='dev')\n",
    "plt.legend()"
   ]
  },
  {
   "cell_type": "code",
   "execution_count": null,
   "metadata": {},
   "outputs": [],
   "source": []
  },
  {
   "cell_type": "markdown",
   "metadata": {},
   "source": [
    "# Using the GPU"
   ]
  },
  {
   "cell_type": "code",
   "execution_count": 223,
   "metadata": {},
   "outputs": [
    {
     "name": "stdout",
     "output_type": "stream",
     "text": [
      "False\n"
     ]
    }
   ],
   "source": [
    "use_cuda = torch.cuda.is_available()\n",
    "print(use_cuda)"
   ]
  },
  {
   "cell_type": "markdown",
   "metadata": {},
   "source": [
    "Moving things manually to the GPU:\n",
    "\n",
    "1. model: move once\n",
    "1. criterion: move once\n",
    "1. data: move one batch at a time\n",
    "\n",
    "This should be automatically handled by your code the following way:"
   ]
  },
  {
   "cell_type": "code",
   "execution_count": null,
   "metadata": {},
   "outputs": [],
   "source": [
    "if use_cuda:\n",
    "    model = model.cuda()\n",
    "    criterion = criterion.cuda()"
   ]
  }
 ],
 "metadata": {
  "kernelspec": {
   "display_name": "Python 3",
   "language": "python",
   "name": "python3"
  },
  "language_info": {
   "codemirror_mode": {
    "name": "ipython",
    "version": 3
   },
   "file_extension": ".py",
   "mimetype": "text/x-python",
   "name": "python",
   "nbconvert_exporter": "python",
   "pygments_lexer": "ipython3",
   "version": "3.6.10"
  },
  "toc": {
   "base_numbering": 1,
   "nav_menu": {
    "height": "452.617px",
    "width": "252px"
   },
   "number_sections": true,
   "sideBar": true,
   "skip_h1_title": false,
   "title_cell": "Table of Contents",
   "title_sidebar": "Contents",
   "toc_cell": false,
   "toc_position": {},
   "toc_section_display": "block",
   "toc_window_display": false
  }
 },
 "nbformat": 4,
 "nbformat_minor": 4
}
