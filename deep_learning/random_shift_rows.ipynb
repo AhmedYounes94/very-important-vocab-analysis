{
 "cells": [
  {
   "cell_type": "code",
   "execution_count": 1,
   "metadata": {},
   "outputs": [],
   "source": [
    "import torch\n",
    "import numpy as np\n",
    "import itertools\n",
    "import seaborn as sns\n",
    "import matplotlib.pyplot as plt"
   ]
  },
  {
   "cell_type": "code",
   "execution_count": 2,
   "metadata": {},
   "outputs": [
    {
     "data": {
      "text/plain": [
       "array([[0., 0., 0., 0., 1., 1.],\n",
       "       [0., 1., 1., 1., 1., 1.],\n",
       "       [0., 0., 0., 1., 1., 1.]], dtype=float32)"
      ]
     },
     "execution_count": 2,
     "metadata": {},
     "output_type": "execute_result"
    }
   ],
   "source": [
    "data = np.zeros((3, 6), dtype=np.float32)\n",
    "s = [4, 1, 3]\n",
    "mask = np.tile(np.arange(6), reps=(3, 1)) < np.tile(s, (6, 1)).T\n",
    "data[mask] = 0\n",
    "data[~mask] = 1\n",
    "data"
   ]
  },
  {
   "cell_type": "code",
   "execution_count": 3,
   "metadata": {},
   "outputs": [
    {
     "data": {
      "image/png": "[encoded data removed]",
      "text/plain": [
       "<Figure size 864x216 with 2 Axes>"
      ]
     },
     "metadata": {},
     "output_type": "display_data"
    }
   ],
   "source": [
    "annot = np.tile(np.arange(6), reps=(3, 1))\n",
    "annot = np.arange(1, 19).reshape(3, 6)\n",
    "fig, ax = plt.subplots(1, 2, sharey=True, figsize=(12, 3))\n",
    "\n",
    "rev_annot = []\n",
    "rev_data = []\n",
    "for i in range(annot.shape[0]):\n",
    "    sp = s[i]\n",
    "    rev_annot.append(\n",
    "        np.concatenate((annot[i, sp:], annot[i, :sp]))\n",
    "    )\n",
    "    rev_data.append(\n",
    "        np.concatenate((data[i, sp:], data[i, :sp]))\n",
    "    )\n",
    "rev_annot = np.stack(rev_annot)\n",
    "rev_data = np.stack(rev_data)\n",
    "\n",
    "sns.heatmap(data, ax=ax[0], cbar=False, linewidths=.5, cmap='Set3',\n",
    "            annot=annot, xticklabels=False, yticklabels=False,\n",
    "            annot_kws={'fontsize': 'xx-large'})\n",
    "\n",
    "sns.heatmap(rev_data, ax=ax[1], cbar=False, linewidths=.5, cmap='Set3',\n",
    "            annot=rev_annot, xticklabels=False, yticklabels=False,\n",
    "            annot_kws={'fontsize': 'xx-large'})\n",
    "\n",
    "fig.savefig(\"random_shift_rows.png\", dpi=100)"
   ]
  },
  {
   "cell_type": "code",
   "execution_count": 33,
   "metadata": {},
   "outputs": [],
   "source": [
    "N = 1000\n",
    "M = 2000\n",
    "splits = torch.from_numpy(np.random.randint(M, size=N))\n",
    "X = torch.FloatTensor(N, M).random_(200, 500).cuda()"
   ]
  },
  {
   "cell_type": "code",
   "execution_count": 34,
   "metadata": {},
   "outputs": [
    {
     "data": {
      "text/plain": [
       "tensor([[ 263.,  215.,  458.,  ...,  243.,  316.,  315.],\n",
       "        [ 292.,  329.,  321.,  ...,  202.,  379.,  451.],\n",
       "        [ 356.,  250.,  295.,  ...,  266.,  280.,  440.],\n",
       "        ...,\n",
       "        [ 334.,  400.,  310.,  ...,  489.,  325.,  368.],\n",
       "        [ 486.,  426.,  323.,  ...,  427.,  417.,  364.],\n",
       "        [ 434.,  267.,  314.,  ...,  279.,  244.,  463.]], device='cuda:0')"
      ]
     },
     "execution_count": 34,
     "metadata": {},
     "output_type": "execute_result"
    }
   ],
   "source": [
    "def swap_each(X, splits):\n",
    "    N = X.size(0)\n",
    "    M = X.size(1)\n",
    "    mask = torch.arange(M, out=torch.LongTensor()).repeat((N, 1)) < splits.repeat((M, 1)).t()\n",
    "    X2 = torch.zeros_like(X)\n",
    "    i = np.repeat(range(N), X.size(1) - splits)\n",
    "    j = list(itertools.chain(*(range(s.item(), X.size(1)) for s in splits)))\n",
    "    flipped_mask = mask[:, list(range(X.size(1)-1, -1, -1))]\n",
    "    X2[~flipped_mask] = X[i, j]\n",
    "    i = np.repeat(range(N), splits)\n",
    "    j = list(itertools.chain(*(range(s) for s in splits)))\n",
    "    X2[flipped_mask] = X[i, j]\n",
    "    return X2\n",
    "\n",
    "swap_each(X, splits)"
   ]
  },
  {
   "cell_type": "code",
   "execution_count": 29,
   "metadata": {},
   "outputs": [
    {
     "data": {
      "text/plain": [
       "tensor([[ 486.,  373.,  219.,  ...,  227.,  322.,  385.],\n",
       "        [ 466.,  297.,  216.,  ...,  235.,  326.,  206.],\n",
       "        [ 343.,  252.,  430.,  ...,  233.,  407.,  209.],\n",
       "        ...,\n",
       "        [ 485.,  430.,  251.,  ...,  309.,  220.,  206.],\n",
       "        [ 471.,  355.,  328.,  ...,  236.,  319.,  468.],\n",
       "        [ 339.,  284.,  415.,  ...,  356.,  418.,  309.]])"
      ]
     },
     "execution_count": 29,
     "metadata": {},
     "output_type": "execute_result"
    }
   ],
   "source": []
  },
  {
   "cell_type": "code",
   "execution_count": 35,
   "metadata": {},
   "outputs": [
    {
     "data": {
      "text/plain": [
       "tensor([[ 263.,  215.,  458.,  ...,  243.,  316.,  315.],\n",
       "        [ 292.,  329.,  321.,  ...,  202.,  379.,  451.],\n",
       "        [ 356.,  250.,  295.,  ...,  266.,  280.,  440.],\n",
       "        ...,\n",
       "        [ 334.,  400.,  310.,  ...,  489.,  325.,  368.],\n",
       "        [ 486.,  426.,  323.,  ...,  427.,  417.,  364.],\n",
       "        [ 434.,  267.,  314.,  ...,  279.,  244.,  463.]], device='cuda:0')"
      ]
     },
     "execution_count": 35,
     "metadata": {},
     "output_type": "execute_result"
    }
   ],
   "source": [
    "def swap_each2(X, splits):\n",
    "    N = X.size(0)\n",
    "    M = X.size(1)\n",
    "    all_idx = torch.arange(M, out=torch.LongTensor()).repeat((N, 1))\n",
    "    all_j = torch.arange(N, out=torch.LongTensor()).repeat((M, 1)).t()\n",
    "    mask = all_idx < splits.repeat((M, 1)).t()\n",
    "    X2 = torch.zeros_like(X)\n",
    "    i = all_j[~mask]\n",
    "    j = all_idx[~mask]\n",
    "    flipped_mask = mask[:, list(range(M-1, -1, -1))]\n",
    "    X2[~flipped_mask] = X[i, j]\n",
    "    i = all_j[mask]\n",
    "    j = all_idx[mask]\n",
    "    X2[flipped_mask] = X[i, j]\n",
    "    return X2\n",
    "\n",
    "swap_each2(X, splits)"
   ]
  },
  {
   "cell_type": "code",
   "execution_count": 36,
   "metadata": {},
   "outputs": [
    {
     "data": {
      "text/plain": [
       "tensor([[ 263.,  215.,  458.,  ...,  243.,  316.,  315.],\n",
       "        [ 292.,  329.,  321.,  ...,  202.,  379.,  451.],\n",
       "        [ 356.,  250.,  295.,  ...,  266.,  280.,  440.],\n",
       "        ...,\n",
       "        [ 334.,  400.,  310.,  ...,  489.,  325.,  368.],\n",
       "        [ 486.,  426.,  323.,  ...,  427.,  417.,  364.],\n",
       "        [ 434.,  267.,  314.,  ...,  279.,  244.,  463.]], device='cuda:0')"
      ]
     },
     "execution_count": 36,
     "metadata": {},
     "output_type": "execute_result"
    }
   ],
   "source": [
    "def swap_each3(X, splits):\n",
    "    swapped = []\n",
    "    for i, row in enumerate(X):\n",
    "        swapped.append(\n",
    "            torch.cat((row[splits[i]:], row[:splits[i]]))\n",
    "        )\n",
    "    return torch.stack(swapped)\n",
    "\n",
    "swap_each3(X, splits)"
   ]
  },
  {
   "cell_type": "code",
   "execution_count": 37,
   "metadata": {},
   "outputs": [],
   "source": [
    "def swap_each4(X, splits):\n",
    "    for i, row in enumerate(X):\n",
    "        if i == 0:\n",
    "            swapped = torch.cat((row[splits[i]:], row[:splits[i]])).view(1, -1)\n",
    "        else:\n",
    "            swapped = torch.cat((\n",
    "                swapped,\n",
    "                torch.cat((row[splits[i]:], row[:splits[i]])).view(1, -1)\n",
    "            ))\n",
    "    return swapped"
   ]
  },
  {
   "cell_type": "code",
   "execution_count": 38,
   "metadata": {},
   "outputs": [
    {
     "name": "stdout",
     "output_type": "stream",
     "text": [
      "144 ms ± 748 µs per loop (mean ± std. dev. of 7 runs, 10 loops each)\n"
     ]
    }
   ],
   "source": [
    "%%timeit\n",
    "swap_each(X, splits)"
   ]
  },
  {
   "cell_type": "code",
   "execution_count": 39,
   "metadata": {},
   "outputs": [
    {
     "name": "stdout",
     "output_type": "stream",
     "text": [
      "258 ms ± 1.99 ms per loop (mean ± std. dev. of 7 runs, 1 loop each)\n"
     ]
    }
   ],
   "source": [
    "%%timeit\n",
    "swap_each2(X, splits)"
   ]
  },
  {
   "cell_type": "code",
   "execution_count": 40,
   "metadata": {},
   "outputs": [
    {
     "name": "stdout",
     "output_type": "stream",
     "text": [
      "21.6 ms ± 37.3 µs per loop (mean ± std. dev. of 7 runs, 10 loops each)\n"
     ]
    }
   ],
   "source": [
    "%%timeit\n",
    "swap_each3(X, splits)"
   ]
  },
  {
   "cell_type": "code",
   "execution_count": 41,
   "metadata": {},
   "outputs": [
    {
     "name": "stdout",
     "output_type": "stream",
     "text": [
      "55.8 ms ± 56.6 µs per loop (mean ± std. dev. of 7 runs, 10 loops each)\n"
     ]
    }
   ],
   "source": [
    "%%timeit\n",
    "swap_each4(X, splits)"
   ]
  },
  {
   "cell_type": "code",
   "execution_count": 23,
   "metadata": {},
   "outputs": [
    {
     "data": {
      "text/plain": [
       "tensor([], dtype=torch.int64)"
      ]
     },
     "execution_count": 23,
     "metadata": {},
     "output_type": "execute_result"
    }
   ],
   "source": [
    "torch.nonzero(swap_each(X, splits) != swap_each2(X, splits))"
   ]
  },
  {
   "cell_type": "code",
   "execution_count": 24,
   "metadata": {},
   "outputs": [
    {
     "data": {
      "text/plain": [
       "tensor([], dtype=torch.int64)"
      ]
     },
     "execution_count": 24,
     "metadata": {},
     "output_type": "execute_result"
    }
   ],
   "source": [
    "torch.nonzero(swap_each3(X, splits) != swap_each2(X, splits))"
   ]
  },
  {
   "cell_type": "code",
   "execution_count": 25,
   "metadata": {},
   "outputs": [
    {
     "data": {
      "text/plain": [
       "tensor([], dtype=torch.int64)"
      ]
     },
     "execution_count": 25,
     "metadata": {},
     "output_type": "execute_result"
    }
   ],
   "source": [
    "torch.nonzero(swap_each3(X, splits) != swap_each4(X, splits))"
   ]
  },
  {
   "cell_type": "code",
   "execution_count": null,
   "metadata": {},
   "outputs": [],
   "source": []
  }
 ],
 "metadata": {
  "kernelspec": {
   "display_name": "Python 3",
   "language": "python",
   "name": "python3"
  },
  "language_info": {
   "codemirror_mode": {
    "name": "ipython",
    "version": 3
   },
   "file_extension": ".py",
   "mimetype": "text/x-python",
   "name": "python",
   "nbconvert_exporter": "python",
   "pygments_lexer": "ipython3",
   "version": "3.6.3"
  }
 },
 "nbformat": 4,
 "nbformat_minor": 2
}
