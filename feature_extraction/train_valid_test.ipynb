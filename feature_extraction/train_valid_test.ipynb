{
 "cells": [
  {
   "cell_type": "markdown",
   "metadata": {},
   "source": [
    "# Split matrix randomly into train, valid and test sets"
   ]
  },
  {
   "cell_type": "code",
   "execution_count": 1,
   "metadata": {
    "collapsed": false
   },
   "outputs": [
    {
     "data": {
      "text/plain": [
       "((80, 20), (10, 20), (10, 20))"
      ]
     },
     "execution_count": 1,
     "metadata": {},
     "output_type": "execute_result"
    }
   ],
   "source": [
    "import numpy as np\n",
    "\n",
    "# matrix dimensions\n",
    "N = 100\n",
    "M = 20\n",
    "\n",
    "# train-valid-test ratio, let's use 80-10-10\n",
    "train_ratio = 0.8\n",
    "valid_ratio = 0.1\n",
    "test_ratio = 1.0 - train_ratio - valid_ratio  # this is never used\n",
    "\n",
    "# array indices\n",
    "train_split = int(train_ratio * N)\n",
    "valid_split = int(valid_ratio * N)\n",
    "\n",
    "# create a random matrix\n",
    "X = np.random.random((N, M))\n",
    "\n",
    "# create random permutations of row indices\n",
    "indices = np.random.permutation(range(X.shape[0]))\n",
    "\n",
    "# split the indices array into train-test-valid\n",
    "train_indices = indices[:train_split]\n",
    "valid_indices = indices[train_split:train_split+valid_split]\n",
    "test_indices = indices[train_split+valid_split:]\n",
    "\n",
    "# select rows for train-valid-test\n",
    "X_train = X[train_indices]\n",
    "X_valid = X[valid_indices]\n",
    "X_test = X[test_indices]\n",
    "\n",
    "X_train.shape, X_valid.shape, X_test.shape"
   ]
  },
  {
   "cell_type": "markdown",
   "metadata": {},
   "source": [
    "## Select random batch\n",
    "\n",
    "This can be used for mini-batch training."
   ]
  },
  {
   "cell_type": "code",
   "execution_count": 2,
   "metadata": {
    "collapsed": false
   },
   "outputs": [
    {
     "data": {
      "text/plain": [
       "((16, 20), (16,))"
      ]
     },
     "execution_count": 2,
     "metadata": {},
     "output_type": "execute_result"
    }
   ],
   "source": [
    "nb_samples = 100  # number of samples\n",
    "nb_features = 20  # number of features\n",
    "batch_size = 16\n",
    "\n",
    "X = np.random.random((nb_samples, nb_features))\n",
    "y = np.random.randint(0, 2, nb_samples)  # random binary labels\n",
    "\n",
    "batch_indices = np.random.choice(nb_samples, batch_size)\n",
    "\n",
    "X_batch = X[batch_indices]\n",
    "y_batch = y[batch_indices]\n",
    "X_batch.shape, y_batch.shape"
   ]
  }
 ],
 "metadata": {
  "kernelspec": {
   "display_name": "Python 3",
   "language": "python",
   "name": "python3"
  },
  "language_info": {
   "codemirror_mode": {
    "name": "ipython",
    "version": 3
   },
   "file_extension": ".py",
   "mimetype": "text/x-python",
   "name": "python",
   "nbconvert_exporter": "python",
   "pygments_lexer": "ipython3",
   "version": "3.5.2+"
  }
 },
 "nbformat": 4,
 "nbformat_minor": 2
}
