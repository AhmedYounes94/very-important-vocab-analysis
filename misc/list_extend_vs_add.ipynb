{
 "cells": [
  {
   "cell_type": "markdown",
   "metadata": {},
   "source": [
    "### `list.extend` vs. list addition\n",
    "\n",
    "`list.extend` seems to be slower than extending a list using +="
   ]
  },
  {
   "cell_type": "code",
   "execution_count": 1,
   "metadata": {},
   "outputs": [
    {
     "name": "stdout",
     "output_type": "stream",
     "text": [
      "249 ns ± 12.4 ns per loop (mean ± std. dev. of 7 runs, 1000000 loops each)\n"
     ]
    }
   ],
   "source": [
    "%%timeit\n",
    "\n",
    "l = [1, 2]\n",
    "l.extend([3, 4])"
   ]
  },
  {
   "cell_type": "code",
   "execution_count": 2,
   "metadata": {},
   "outputs": [
    {
     "name": "stdout",
     "output_type": "stream",
     "text": [
      "182 ns ± 3.04 ns per loop (mean ± std. dev. of 7 runs, 10000000 loops each)\n"
     ]
    }
   ],
   "source": [
    "%%timeit\n",
    "\n",
    "l = [1, 2]\n",
    "l += [3, 4]"
   ]
  },
  {
   "cell_type": "markdown",
   "metadata": {},
   "source": [
    "### Disassembler\n",
    "\n",
    "The disassembler shows that the extra function call and the attribute loading (`extend` method of `list`) are necessary for the first version."
   ]
  },
  {
   "cell_type": "code",
   "execution_count": 3,
   "metadata": {
    "collapsed": true
   },
   "outputs": [],
   "source": [
    "def extend_list(l):\n",
    "    l.extend([3, 4])\n",
    "    \n",
    "def extend_list_with_add(l):\n",
    "    l += [3, 4]"
   ]
  },
  {
   "cell_type": "code",
   "execution_count": 4,
   "metadata": {},
   "outputs": [
    {
     "name": "stdout",
     "output_type": "stream",
     "text": [
      "  2           0 LOAD_FAST                0 (l)\n",
      "              2 LOAD_ATTR                0 (extend)\n",
      "              4 LOAD_CONST               1 (3)\n",
      "              6 LOAD_CONST               2 (4)\n",
      "              8 BUILD_LIST               2\n",
      "             10 CALL_FUNCTION            1\n",
      "             12 POP_TOP\n",
      "             14 LOAD_CONST               0 (None)\n",
      "             16 RETURN_VALUE\n"
     ]
    }
   ],
   "source": [
    "import dis\n",
    "\n",
    "dis.dis(extend_list)"
   ]
  },
  {
   "cell_type": "code",
   "execution_count": 5,
   "metadata": {},
   "outputs": [
    {
     "name": "stdout",
     "output_type": "stream",
     "text": [
      "  5           0 LOAD_FAST                0 (l)\n",
      "              2 LOAD_CONST               1 (3)\n",
      "              4 LOAD_CONST               2 (4)\n",
      "              6 BUILD_LIST               2\n",
      "              8 INPLACE_ADD\n",
      "             10 STORE_FAST               0 (l)\n",
      "             12 LOAD_CONST               0 (None)\n",
      "             14 RETURN_VALUE\n"
     ]
    }
   ],
   "source": [
    "dis.dis(extend_list_with_add)"
   ]
  }
 ],
 "metadata": {
  "kernelspec": {
   "display_name": "Python 3",
   "language": "python",
   "name": "python3"
  },
  "language_info": {
   "codemirror_mode": {
    "name": "ipython",
    "version": 3
   },
   "file_extension": ".py",
   "mimetype": "text/x-python",
   "name": "python",
   "nbconvert_exporter": "python",
   "pygments_lexer": "ipython3",
   "version": "3.6.2"
  }
 },
 "nbformat": 4,
 "nbformat_minor": 2
}
