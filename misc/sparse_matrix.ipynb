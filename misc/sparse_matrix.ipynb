{
 "cells": [
  {
   "cell_type": "code",
   "execution_count": 1,
   "metadata": {},
   "outputs": [],
   "source": [
    "import numpy as np\n",
    "from scipy.sparse import coo_matrix, csr_matrix"
   ]
  },
  {
   "cell_type": "code",
   "execution_count": 2,
   "metadata": {},
   "outputs": [
    {
     "data": {
      "text/plain": [
       "86614"
      ]
     },
     "execution_count": 2,
     "metadata": {},
     "output_type": "execute_result"
    }
   ],
   "source": [
    "with open(\"f1.txt\") as f:\n",
    "    i = []\n",
    "    j = []\n",
    "    for line in f:\n",
    "        fd = line.strip().split()\n",
    "        i.append(int(fd[0]))\n",
    "        j.append(int(fd[1]))\n",
    "        j.append(int(fd[0]))\n",
    "        i.append(int(fd[1]))\n",
    "\n",
    "N = 626892\n",
    "F1 = coo_matrix((np.arange(len(i)), (i, j)), shape=(N, N))\n",
    "\n",
    "F1.nnz"
   ]
  },
  {
   "cell_type": "code",
   "execution_count": 3,
   "metadata": {},
   "outputs": [
    {
     "data": {
      "text/plain": [
       "481466"
      ]
     },
     "execution_count": 3,
     "metadata": {},
     "output_type": "execute_result"
    }
   ],
   "source": [
    "with open(\"f2.txt\") as f:\n",
    "    i = []\n",
    "    j = []\n",
    "    for line in f:\n",
    "        fd = line.strip().split()\n",
    "        i.append(int(fd[0]))\n",
    "        j.append(int(fd[1]))\n",
    "        j.append(int(fd[0]))\n",
    "        i.append(int(fd[1]))\n",
    "\n",
    "N = 626892\n",
    "F2 = coo_matrix((np.arange(len(i)), (i, j)), shape=(N, N))\n",
    "F2.nnz"
   ]
  },
  {
   "cell_type": "code",
   "execution_count": 4,
   "metadata": {},
   "outputs": [
    {
     "data": {
      "text/plain": [
       "(83944, 481466)"
      ]
     },
     "execution_count": 4,
     "metadata": {},
     "output_type": "execute_result"
    }
   ],
   "source": [
    "F1 = F1.tocsr()\n",
    "F2 = F2.tocsr()\n",
    "F1.nnz, F2.nnz"
   ]
  },
  {
   "cell_type": "code",
   "execution_count": 5,
   "metadata": {},
   "outputs": [
    {
     "name": "stdout",
     "output_type": "stream",
     "text": [
      "CPU times: user 0 ns, sys: 0 ns, total: 0 ns\n",
      "Wall time: 19.1 µs\n"
     ]
    },
    {
     "data": {
      "text/plain": [
       "83943"
      ]
     },
     "execution_count": 5,
     "metadata": {},
     "output_type": "execute_result"
    }
   ],
   "source": [
    "%time\n",
    "\n",
    "S = F1 + F1\n",
    "S.nnz"
   ]
  },
  {
   "cell_type": "code",
   "execution_count": 6,
   "metadata": {},
   "outputs": [
    {
     "name": "stdout",
     "output_type": "stream",
     "text": [
      "CPU times: user 0 ns, sys: 0 ns, total: 0 ns\n",
      "Wall time: 6.44 µs\n"
     ]
    },
    {
     "data": {
      "text/plain": [
       "1534169693"
      ]
     },
     "execution_count": 6,
     "metadata": {},
     "output_type": "execute_result"
    }
   ],
   "source": [
    "%time\n",
    "\n",
    "S = (F1+F2) * (F1+F2)\n",
    "S.nnz"
   ]
  }
 ],
 "metadata": {
  "kernelspec": {
   "display_name": "Python 3",
   "language": "python",
   "name": "python3"
  },
  "language_info": {
   "codemirror_mode": {
    "name": "ipython",
    "version": 3
   },
   "file_extension": ".py",
   "mimetype": "text/x-python",
   "name": "python",
   "nbconvert_exporter": "python",
   "pygments_lexer": "ipython3",
   "version": "3.6.3"
  }
 },
 "nbformat": 4,
 "nbformat_minor": 2
}
