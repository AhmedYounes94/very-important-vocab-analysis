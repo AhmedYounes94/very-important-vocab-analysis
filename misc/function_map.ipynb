{
 "cells": [
  {
   "cell_type": "markdown",
   "metadata": {},
   "source": [
    "# Create a function map for substring comparison\n",
    "\n",
    "~~~\n",
    "d = {'a': 'AB', 'b': 'C'}\n",
    "\n",
    "funcs = ....\n",
    "\n",
    "funcs['a']('B') --> True\n",
    "funcs['b']('B') --> False\n",
    "funcs['b']('C') --> False\n",
    "~~~\n",
    "\n",
    "## Solution 1 - naive solution doesn't work as expected"
   ]
  },
  {
   "cell_type": "code",
   "execution_count": 1,
   "metadata": {},
   "outputs": [
    {
     "name": "stdout",
     "output_type": "stream",
     "text": [
      "False False True\n",
      "False True\n"
     ]
    }
   ],
   "source": [
    "d = {'a': 'AB', 'b': 'C'}\n",
    "\n",
    "funcs = {}\n",
    "for key, value in d.items():\n",
    "    funcs[key] = lambda v: v in value\n",
    "    \n",
    "# True, True, False ?\n",
    "print(funcs['a']('AB'), funcs['a']('A'), funcs['a']('C'))\n",
    "# False, True ?\n",
    "print(funcs['b']('AB'), funcs['b']('C'))"
   ]
  },
  {
   "cell_type": "markdown",
   "metadata": {},
   "source": [
    "### Changing `value` changes the function behavior as well"
   ]
  },
  {
   "cell_type": "code",
   "execution_count": 2,
   "metadata": {},
   "outputs": [
    {
     "name": "stdout",
     "output_type": "stream",
     "text": [
      "True True True True\n"
     ]
    }
   ],
   "source": [
    "value = \"ABCD\"\n",
    "print(funcs['a']('AB'), funcs['a']('A'), funcs['a']('C'), funcs['a']('D'))"
   ]
  },
  {
   "cell_type": "markdown",
   "metadata": {},
   "source": [
    "## Solution 2 - function factory using closure"
   ]
  },
  {
   "cell_type": "code",
   "execution_count": 3,
   "metadata": {},
   "outputs": [
    {
     "name": "stdout",
     "output_type": "stream",
     "text": [
      "True True False\n"
     ]
    }
   ],
   "source": [
    "d = {'a': 'AB', 'b': 'C'}\n",
    "\n",
    "def foo(value):\n",
    "    def bar(v):\n",
    "        return v in value\n",
    "    return bar\n",
    "\n",
    "funcs = {}\n",
    "for key, value in d.items():\n",
    "    funcs[key] = foo(value)\n",
    "    \n",
    "# True, True, False ?\n",
    "print(funcs['a']('AB'), funcs['a']('A'), funcs['a']('C'))\n",
    "# False, True ?"
   ]
  },
  {
   "cell_type": "code",
   "execution_count": 4,
   "metadata": {},
   "outputs": [
    {
     "name": "stdout",
     "output_type": "stream",
     "text": [
      "True True False\n",
      "False True\n"
     ]
    }
   ],
   "source": [
    "d = {'a': 'AB', 'b': 'C'}\n",
    "\n",
    "def foo(value):\n",
    "    def bar(v):\n",
    "        return v in value\n",
    "    return bar\n",
    "\n",
    "funcs = {}\n",
    "for key, value in d.items():\n",
    "    funcs[key] = foo(value)\n",
    "    \n",
    "# True, True, False ?\n",
    "print(funcs['a']('AB'), funcs['a']('A'), funcs['a']('C'))\n",
    "# False, True ?\n",
    "print(funcs['b']('AB'), funcs['b']('C'))"
   ]
  },
  {
   "cell_type": "markdown",
   "metadata": {},
   "source": [
    "### Changing `value` doesn't affect the functions"
   ]
  },
  {
   "cell_type": "code",
   "execution_count": 5,
   "metadata": {},
   "outputs": [
    {
     "name": "stdout",
     "output_type": "stream",
     "text": [
      "True True False False\n"
     ]
    }
   ],
   "source": [
    "value = \"ABCD\"\n",
    "print(funcs['a']('AB'), funcs['a']('A'), funcs['a']('C'), funcs['a']('D'))"
   ]
  },
  {
   "cell_type": "markdown",
   "metadata": {},
   "source": [
    "## Solution 3 - partial"
   ]
  },
  {
   "cell_type": "code",
   "execution_count": 6,
   "metadata": {},
   "outputs": [
    {
     "name": "stdout",
     "output_type": "stream",
     "text": [
      "True True False\n",
      "False True\n"
     ]
    }
   ],
   "source": [
    "from functools import partial\n",
    "\n",
    "d = {'a': 'AB', 'b': 'C'}\n",
    "\n",
    "funcs = {}\n",
    "for key, value in d.items():\n",
    "    funcs[key] = partial(lambda v, value: v in value, value=value)\n",
    "    \n",
    "# True, True, False ?\n",
    "print(funcs['a']('AB'), funcs['a']('A'), funcs['a']('C'))\n",
    "# False, True ?\n",
    "print(funcs['b']('AB'), funcs['b']('C'))"
   ]
  },
  {
   "cell_type": "markdown",
   "metadata": {},
   "source": [
    "### Changing `value`"
   ]
  },
  {
   "cell_type": "code",
   "execution_count": 7,
   "metadata": {},
   "outputs": [
    {
     "name": "stdout",
     "output_type": "stream",
     "text": [
      "True True False False\n"
     ]
    }
   ],
   "source": [
    "value = \"ABCD\"\n",
    "print(funcs['a']('AB'), funcs['a']('A'), funcs['a']('C'), funcs['a']('D'))"
   ]
  }
 ],
 "metadata": {
  "kernelspec": {
   "display_name": "Python 3",
   "language": "python",
   "name": "python3"
  },
  "language_info": {
   "codemirror_mode": {
    "name": "ipython",
    "version": 3
   },
   "file_extension": ".py",
   "mimetype": "text/x-python",
   "name": "python",
   "nbconvert_exporter": "python",
   "pygments_lexer": "ipython3",
   "version": "3.6.5"
  }
 },
 "nbformat": 4,
 "nbformat_minor": 2
}
